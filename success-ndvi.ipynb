{
 "cells": [
  {
   "cell_type": "code",
   "execution_count": 21,
   "id": "9d814725-de15-4f2d-b45b-c7e044f312b7",
   "metadata": {},
   "outputs": [],
   "source": [
    "# https://earthpy.readthedocs.io/en/latest/gallery_vignettes/plot_calculate_classify_ndvi.html\n",
    "import os\n",
    "from glob import glob\n",
    "import numpy as np\n",
    "import matplotlib.pyplot as plt\n",
    "from matplotlib.colors import ListedColormap\n",
    "import earthpy as et\n",
    "import earthpy.spatial as es\n",
    "import earthpy.plot as ep\n",
    "from pathlib import Path\n",
    "import rasterio"
   ]
  },
  {
   "cell_type": "code",
   "execution_count": 22,
   "id": "3882f9cb-1d49-444b-b7fe-749676373200",
   "metadata": {},
   "outputs": [],
   "source": [
    "def load_sentinel_image(img_folder, bands):\n",
    "    image = {}\n",
    "    path = Path(img_folder)\n",
    "    for band in bands:\n",
    "        # considering the sentinel images end with *_B#_10m.jp2, we will use it to locate the correct file\n",
    "        file = next(path.glob(f'*_{band}_10m.jp2'))\n",
    "        print(f'Opening file {file}')\n",
    "        ds = rasterio.open(file, driver='JP2OpenJPEG').read(1).astype('float64')\n",
    "        image.update({band: ds})\n",
    "    return image"
   ]
  },
  {
   "cell_type": "code",
   "execution_count": 23,
   "id": "9ba1e16d-7b1e-4844-b33c-db57120d2172",
   "metadata": {},
   "outputs": [
    {
     "name": "stdout",
     "output_type": "stream",
     "text": [
      "Opening file /home/data/28993b79-d5dc-48b1-8c61-3d31eafd0b88/T19NDE_20220127T150719_B02_10m.jp2\n",
      "Opening file /home/data/28993b79-d5dc-48b1-8c61-3d31eafd0b88/T19NDE_20220127T150719_B03_10m.jp2\n",
      "Opening file /home/data/28993b79-d5dc-48b1-8c61-3d31eafd0b88/T19NDE_20220127T150719_B04_10m.jp2\n",
      "Opening file /home/data/28993b79-d5dc-48b1-8c61-3d31eafd0b88/T19NDE_20220127T150719_B08_10m.jp2\n"
     ]
    }
   ],
   "source": [
    "# blue  = B02\n",
    "# green = B03\n",
    "# red   = B04\n",
    "# nir   = B08\n",
    "pathOne = '/home/data/28993b79-d5dc-48b1-8c61-3d31eafd0b88/'\n",
    "img = load_sentinel_image(pathOne, ['B02','B03','B04','B08'])"
   ]
  },
  {
   "cell_type": "code",
   "execution_count": 24,
   "id": "c995a1f3-c28e-465c-a1cb-c95d95d3cfb2",
   "metadata": {},
   "outputs": [],
   "source": [
    "ndvi = es.normalized_diff( img['B08'], img['B04'])"
   ]
  },
  {
   "cell_type": "code",
   "execution_count": null,
   "id": "078a3bfe-1927-47a4-8a5c-cea2b93903ac",
   "metadata": {},
   "outputs": [],
   "source": [
    "titles = [\"Sentinel 2 - Normalized Difference Vegetation Index (NDVI)\"]\n",
    "#ep.plot_bands( ndvi )\n",
    "ep.plot_bands(ndvi, cmap=\"RdYlGn\", cols=1, title=titles, vmin=ndvi.min(), vmax=ndvi.max())\n",
    "plt.show()"
   ]
  },
  {
   "cell_type": "code",
   "execution_count": null,
   "id": "54272455-bcfc-4522-9c35-b1ebfd3ac969",
   "metadata": {},
   "outputs": [],
   "source": []
  }
 ],
 "metadata": {
  "kernelspec": {
   "display_name": "Python 3 (ipykernel)",
   "language": "python",
   "name": "python3"
  },
  "language_info": {
   "codemirror_mode": {
    "name": "ipython",
    "version": 3
   },
   "file_extension": ".py",
   "mimetype": "text/x-python",
   "name": "python",
   "nbconvert_exporter": "python",
   "pygments_lexer": "ipython3",
   "version": "3.9.7"
  }
 },
 "nbformat": 4,
 "nbformat_minor": 5
}
