{
 "cells": [
  {
   "cell_type": "code",
   "execution_count": 1,
   "id": "9d814725-de15-4f2d-b45b-c7e044f312b7",
   "metadata": {},
   "outputs": [
    {
     "data": {
      "text/plain": [
       "{'divide': 'warn', 'over': 'warn', 'under': 'ignore', 'invalid': 'warn'}"
      ]
     },
     "execution_count": 1,
     "metadata": {},
     "output_type": "execute_result"
    }
   ],
   "source": [
    "# https://towardsdatascience.com/satellite-imagery-analysis-using-python-9f389569862c\n",
    "# https://towardsdatascience.com/how-green-is-greenland-cabbe516de04\n",
    "# https://earthpy.readthedocs.io/en/latest/gallery_vignettes/plot_rgb.html\n",
    "from glob import glob\n",
    "import earthpy as et\n",
    "import earthpy.spatial as es\n",
    "import earthpy.plot as ep\n",
    "import rasterio as rio\n",
    "import matplotlib.pyplot as plt\n",
    "import numpy as np\n",
    "from matplotlib.colors import ListedColormap\n",
    "import plotly.graph_objects as go\n",
    "from pathlib import Path\n",
    "np.seterr(divide='ignore', invalid='ignore')"
   ]
  },
  {
   "cell_type": "code",
   "execution_count": 2,
   "id": "3882f9cb-1d49-444b-b7fe-749676373200",
   "metadata": {},
   "outputs": [],
   "source": [
    "def load_sentinel_image(img_folder, bands):\n",
    "    l = []\n",
    "    path = Path(img_folder)\n",
    "    for band in bands:\n",
    "        # considering the sentinel images end with *_B#_10m.jp2, we will use it to locate the correct file\n",
    "        file = next(path.glob(f'*_{band}_10m.jp2'))\n",
    "        print(f'Opening file {file}')\n",
    "        ds = rio.open(file, driver='JP2OpenJPEG')\n",
    "        l.append( ds.read(1).astype('float64') )\n",
    "    arr_st = np.stack(l)\n",
    "    return arr_st"
   ]
  },
  {
   "cell_type": "code",
   "execution_count": null,
   "id": "9ba1e16d-7b1e-4844-b33c-db57120d2172",
   "metadata": {},
   "outputs": [
    {
     "name": "stdout",
     "output_type": "stream",
     "text": [
      "Opening file /home/data/28993b79-d5dc-48b1-8c61-3d31eafd0b88/T19NDE_20220127T150719_B02_10m.jp2\n"
     ]
    }
   ],
   "source": [
    "# blue  = B02\n",
    "# green = B03\n",
    "# red   = B04\n",
    "# nir   = B08\n",
    "pathOne = '/home/data/28993b79-d5dc-48b1-8c61-3d31eafd0b88/'\n",
    "img = load_sentinel_image(pathOne, ['B02','B03','B04','B08'])"
   ]
  },
  {
   "cell_type": "code",
   "execution_count": null,
   "id": "df36a222-3662-4e52-ab58-ec477974cfd4",
   "metadata": {},
   "outputs": [],
   "source": [
    "titles = ['Blue', 'Green', 'Red', 'NIR']\n",
    "ep.plot_bands(img, cmap = \"terrain\", title = titles)"
   ]
  },
  {
   "cell_type": "code",
   "execution_count": null,
   "id": "2b6d6272-527a-427e-95fc-ec8c0622f85a",
   "metadata": {},
   "outputs": [],
   "source": [
    "ep.plot_rgb(img, rgb=(3, 2, 1), stretch=True, str_clip=0.2, figsize=(10, 16))"
   ]
  },
  {
   "cell_type": "code",
   "execution_count": null,
   "id": "2a600c69-1375-4cc9-87f0-bc3718384094",
   "metadata": {},
   "outputs": [],
   "source": []
  }
 ],
 "metadata": {
  "kernelspec": {
   "display_name": "Python 3 (ipykernel)",
   "language": "python",
   "name": "python3"
  },
  "language_info": {
   "codemirror_mode": {
    "name": "ipython",
    "version": 3
   },
   "file_extension": ".py",
   "mimetype": "text/x-python",
   "name": "python",
   "nbconvert_exporter": "python",
   "pygments_lexer": "ipython3",
   "version": "3.9.7"
  }
 },
 "nbformat": 4,
 "nbformat_minor": 5
}
